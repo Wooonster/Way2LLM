{
 "cells": [
  {
   "cell_type": "code",
   "execution_count": 1,
   "metadata": {},
   "outputs": [],
   "source": [
    "import torch\n",
    "\n",
    "class TemperatureSampler:\n",
    "    '''Sampler with temperature, without using other library functions'''\n",
    "    \n",
    "    def __init__(self, temperature: float = 1.0):\n",
    "        self.temperature = temperature\n",
    "\n",
    "    def __call__(self, logits: torch.Tensor):\n",
    "        # 调整 logits 加入温度\n",
    "        logits /= self.temperature\n",
    "        \n",
    "        # 通过 softmax 将 logits 转换为概率分布\n",
    "        probs = torch.softmax(logits, dim=-1)\n",
    "        \n",
    "        # 从概率分布中采样（返回一个索引，表示选择的类别）\n",
    "        sample = torch.multinomial(probs, 1)\n",
    "        \n",
    "        return sample.squeeze()  # 返回标量索引\n",
    "    "
   ]
  },
  {
   "cell_type": "code",
   "execution_count": 7,
   "metadata": {},
   "outputs": [
    {
     "name": "stdout",
     "output_type": "stream",
     "text": [
      "sampled index at 5\n"
     ]
    }
   ],
   "source": [
    "logits = torch.tensor([1.0, 2.0, 1.5, 0.5, 0.8, 2.5, 1.2, 1.3, 0.9, 1.8])\n",
    "\n",
    "sampler = TemperatureSampler(temperature=1.0)  # 采样\n",
    "sampler_idx = sampler(logits)\n",
    "print(f\"sampled index at {sampler_idx.item()}\")"
   ]
  },
  {
   "cell_type": "code",
   "execution_count": null,
   "metadata": {},
   "outputs": [],
   "source": []
  }
 ],
 "metadata": {
  "kernelspec": {
   "display_name": "Python 3",
   "language": "python",
   "name": "python3"
  },
  "language_info": {
   "codemirror_mode": {
    "name": "ipython",
    "version": 3
   },
   "file_extension": ".py",
   "mimetype": "text/x-python",
   "name": "python",
   "nbconvert_exporter": "python",
   "pygments_lexer": "ipython3",
   "version": "3.11.10"
  }
 },
 "nbformat": 4,
 "nbformat_minor": 2
}
